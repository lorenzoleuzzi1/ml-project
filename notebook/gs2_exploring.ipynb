{
 "cells": [
  {
   "cell_type": "code",
   "execution_count": 26,
   "metadata": {},
   "outputs": [
    {
     "data": {
      "text/html": [
       "<div>\n",
       "<style scoped>\n",
       "    .dataframe tbody tr th:only-of-type {\n",
       "        vertical-align: middle;\n",
       "    }\n",
       "\n",
       "    .dataframe tbody tr th {\n",
       "        vertical-align: top;\n",
       "    }\n",
       "\n",
       "    .dataframe thead th {\n",
       "        text-align: right;\n",
       "    }\n",
       "</style>\n",
       "<table border=\"1\" class=\"dataframe\">\n",
       "  <thead>\n",
       "    <tr style=\"text-align: right;\">\n",
       "      <th></th>\n",
       "      <th>activation_hidden</th>\n",
       "      <th>alpha</th>\n",
       "      <th>batch_size</th>\n",
       "      <th>hidden_layer_sizes</th>\n",
       "      <th>lambd</th>\n",
       "      <th>learning_rate</th>\n",
       "      <th>learning_rate_init</th>\n",
       "      <th>val_MEE_mean</th>\n",
       "      <th>val_MEE_dev</th>\n",
       "      <th>split0_val_MEE</th>\n",
       "      <th>split1_val_MEE</th>\n",
       "      <th>split2_val_MEE</th>\n",
       "      <th>split0_best_epoch</th>\n",
       "      <th>split1_best_epoch</th>\n",
       "      <th>split2_best_epoch</th>\n",
       "      <th>hidden</th>\n",
       "    </tr>\n",
       "  </thead>\n",
       "  <tbody>\n",
       "    <tr>\n",
       "      <th>0</th>\n",
       "      <td>logistic</td>\n",
       "      <td>0.9</td>\n",
       "      <td>128</td>\n",
       "      <td>[20, 20, 20]</td>\n",
       "      <td>0.0001</td>\n",
       "      <td>fixed</td>\n",
       "      <td>0.0050</td>\n",
       "      <td>1.471094</td>\n",
       "      <td>0.037880</td>\n",
       "      <td>1.522030</td>\n",
       "      <td>1.431255</td>\n",
       "      <td>1.459997</td>\n",
       "      <td>497.0</td>\n",
       "      <td>496.0</td>\n",
       "      <td>473.0</td>\n",
       "      <td>3layer20</td>\n",
       "    </tr>\n",
       "    <tr>\n",
       "      <th>1</th>\n",
       "      <td>logistic</td>\n",
       "      <td>0.7</td>\n",
       "      <td>128</td>\n",
       "      <td>[20, 20]</td>\n",
       "      <td>0.0005</td>\n",
       "      <td>fixed</td>\n",
       "      <td>0.0500</td>\n",
       "      <td>1.471185</td>\n",
       "      <td>0.087932</td>\n",
       "      <td>1.577626</td>\n",
       "      <td>1.362280</td>\n",
       "      <td>1.473650</td>\n",
       "      <td>359.0</td>\n",
       "      <td>498.0</td>\n",
       "      <td>479.0</td>\n",
       "      <td>2layer20</td>\n",
       "    </tr>\n",
       "    <tr>\n",
       "      <th>2</th>\n",
       "      <td>logistic</td>\n",
       "      <td>0.7</td>\n",
       "      <td>128</td>\n",
       "      <td>[20, 20]</td>\n",
       "      <td>0.0001</td>\n",
       "      <td>fixed</td>\n",
       "      <td>0.0500</td>\n",
       "      <td>1.479863</td>\n",
       "      <td>0.090948</td>\n",
       "      <td>1.606103</td>\n",
       "      <td>1.438071</td>\n",
       "      <td>1.395415</td>\n",
       "      <td>449.0</td>\n",
       "      <td>499.0</td>\n",
       "      <td>496.0</td>\n",
       "      <td>2layer20</td>\n",
       "    </tr>\n",
       "    <tr>\n",
       "      <th>3</th>\n",
       "      <td>logistic</td>\n",
       "      <td>0.7</td>\n",
       "      <td>128</td>\n",
       "      <td>[20, 20]</td>\n",
       "      <td>0.0010</td>\n",
       "      <td>fixed</td>\n",
       "      <td>0.0500</td>\n",
       "      <td>1.480510</td>\n",
       "      <td>0.063826</td>\n",
       "      <td>1.569605</td>\n",
       "      <td>1.423427</td>\n",
       "      <td>1.448497</td>\n",
       "      <td>229.0</td>\n",
       "      <td>340.0</td>\n",
       "      <td>387.0</td>\n",
       "      <td>2layer20</td>\n",
       "    </tr>\n",
       "    <tr>\n",
       "      <th>4</th>\n",
       "      <td>logistic</td>\n",
       "      <td>0.9</td>\n",
       "      <td>128</td>\n",
       "      <td>[20, 20, 20]</td>\n",
       "      <td>0.0005</td>\n",
       "      <td>fixed</td>\n",
       "      <td>0.0050</td>\n",
       "      <td>1.486053</td>\n",
       "      <td>0.082569</td>\n",
       "      <td>1.588588</td>\n",
       "      <td>1.386397</td>\n",
       "      <td>1.483175</td>\n",
       "      <td>497.0</td>\n",
       "      <td>490.0</td>\n",
       "      <td>464.0</td>\n",
       "      <td>3layer20</td>\n",
       "    </tr>\n",
       "    <tr>\n",
       "      <th>5</th>\n",
       "      <td>logistic</td>\n",
       "      <td>0.7</td>\n",
       "      <td>128</td>\n",
       "      <td>[20, 20, 20]</td>\n",
       "      <td>0.0005</td>\n",
       "      <td>fixed</td>\n",
       "      <td>0.0500</td>\n",
       "      <td>1.488816</td>\n",
       "      <td>0.076520</td>\n",
       "      <td>1.595879</td>\n",
       "      <td>1.448922</td>\n",
       "      <td>1.421646</td>\n",
       "      <td>426.0</td>\n",
       "      <td>327.0</td>\n",
       "      <td>177.0</td>\n",
       "      <td>3layer20</td>\n",
       "    </tr>\n",
       "    <tr>\n",
       "      <th>6</th>\n",
       "      <td>logistic</td>\n",
       "      <td>0.9</td>\n",
       "      <td>128</td>\n",
       "      <td>[20, 20]</td>\n",
       "      <td>0.0005</td>\n",
       "      <td>fixed</td>\n",
       "      <td>0.0050</td>\n",
       "      <td>1.491330</td>\n",
       "      <td>0.083307</td>\n",
       "      <td>1.601460</td>\n",
       "      <td>1.400023</td>\n",
       "      <td>1.472506</td>\n",
       "      <td>496.0</td>\n",
       "      <td>499.0</td>\n",
       "      <td>498.0</td>\n",
       "      <td>2layer20</td>\n",
       "    </tr>\n",
       "    <tr>\n",
       "      <th>7</th>\n",
       "      <td>logistic</td>\n",
       "      <td>0.7</td>\n",
       "      <td>128</td>\n",
       "      <td>[20, 20, 20]</td>\n",
       "      <td>0.0001</td>\n",
       "      <td>fixed</td>\n",
       "      <td>0.0500</td>\n",
       "      <td>1.499663</td>\n",
       "      <td>0.042792</td>\n",
       "      <td>1.559414</td>\n",
       "      <td>1.478098</td>\n",
       "      <td>1.461477</td>\n",
       "      <td>351.0</td>\n",
       "      <td>492.0</td>\n",
       "      <td>477.0</td>\n",
       "      <td>3layer20</td>\n",
       "    </tr>\n",
       "    <tr>\n",
       "      <th>8</th>\n",
       "      <td>logistic</td>\n",
       "      <td>0.7</td>\n",
       "      <td>128</td>\n",
       "      <td>[20, 20, 20]</td>\n",
       "      <td>0.0010</td>\n",
       "      <td>fixed</td>\n",
       "      <td>0.0500</td>\n",
       "      <td>1.500669</td>\n",
       "      <td>0.076486</td>\n",
       "      <td>1.555888</td>\n",
       "      <td>1.392510</td>\n",
       "      <td>1.553609</td>\n",
       "      <td>206.0</td>\n",
       "      <td>155.0</td>\n",
       "      <td>97.0</td>\n",
       "      <td>3layer20</td>\n",
       "    </tr>\n",
       "    <tr>\n",
       "      <th>9</th>\n",
       "      <td>logistic</td>\n",
       "      <td>0.7</td>\n",
       "      <td>128</td>\n",
       "      <td>[60]</td>\n",
       "      <td>0.0010</td>\n",
       "      <td>fixed</td>\n",
       "      <td>0.0500</td>\n",
       "      <td>1.503138</td>\n",
       "      <td>0.074156</td>\n",
       "      <td>1.601040</td>\n",
       "      <td>1.421630</td>\n",
       "      <td>1.486743</td>\n",
       "      <td>351.0</td>\n",
       "      <td>451.0</td>\n",
       "      <td>408.0</td>\n",
       "      <td>1layer60</td>\n",
       "    </tr>\n",
       "    <tr>\n",
       "      <th>10</th>\n",
       "      <td>logistic</td>\n",
       "      <td>0.7</td>\n",
       "      <td>128</td>\n",
       "      <td>[60]</td>\n",
       "      <td>0.0005</td>\n",
       "      <td>fixed</td>\n",
       "      <td>0.0500</td>\n",
       "      <td>1.504148</td>\n",
       "      <td>0.064690</td>\n",
       "      <td>1.593887</td>\n",
       "      <td>1.443873</td>\n",
       "      <td>1.474684</td>\n",
       "      <td>320.0</td>\n",
       "      <td>491.0</td>\n",
       "      <td>494.0</td>\n",
       "      <td>1layer60</td>\n",
       "    </tr>\n",
       "    <tr>\n",
       "      <th>11</th>\n",
       "      <td>logistic</td>\n",
       "      <td>0.9</td>\n",
       "      <td>128</td>\n",
       "      <td>[20, 20]</td>\n",
       "      <td>0.0001</td>\n",
       "      <td>fixed</td>\n",
       "      <td>0.0050</td>\n",
       "      <td>1.505684</td>\n",
       "      <td>0.055399</td>\n",
       "      <td>1.573074</td>\n",
       "      <td>1.437384</td>\n",
       "      <td>1.506595</td>\n",
       "      <td>498.0</td>\n",
       "      <td>493.0</td>\n",
       "      <td>496.0</td>\n",
       "      <td>2layer20</td>\n",
       "    </tr>\n",
       "    <tr>\n",
       "      <th>12</th>\n",
       "      <td>logistic</td>\n",
       "      <td>0.9</td>\n",
       "      <td>128</td>\n",
       "      <td>[20, 20, 20]</td>\n",
       "      <td>0.0010</td>\n",
       "      <td>fixed</td>\n",
       "      <td>0.0050</td>\n",
       "      <td>1.509748</td>\n",
       "      <td>0.082725</td>\n",
       "      <td>1.615729</td>\n",
       "      <td>1.413850</td>\n",
       "      <td>1.499664</td>\n",
       "      <td>222.0</td>\n",
       "      <td>242.0</td>\n",
       "      <td>387.0</td>\n",
       "      <td>3layer20</td>\n",
       "    </tr>\n",
       "    <tr>\n",
       "      <th>13</th>\n",
       "      <td>logistic</td>\n",
       "      <td>0.9</td>\n",
       "      <td>128</td>\n",
       "      <td>[20, 20]</td>\n",
       "      <td>0.0010</td>\n",
       "      <td>fixed</td>\n",
       "      <td>0.0500</td>\n",
       "      <td>1.517257</td>\n",
       "      <td>0.050390</td>\n",
       "      <td>1.576794</td>\n",
       "      <td>1.521403</td>\n",
       "      <td>1.453575</td>\n",
       "      <td>310.0</td>\n",
       "      <td>389.0</td>\n",
       "      <td>305.0</td>\n",
       "      <td>2layer20</td>\n",
       "    </tr>\n",
       "    <tr>\n",
       "      <th>14</th>\n",
       "      <td>logistic</td>\n",
       "      <td>0.9</td>\n",
       "      <td>128</td>\n",
       "      <td>[60]</td>\n",
       "      <td>0.0001</td>\n",
       "      <td>fixed</td>\n",
       "      <td>0.0050</td>\n",
       "      <td>1.519775</td>\n",
       "      <td>0.089896</td>\n",
       "      <td>1.636342</td>\n",
       "      <td>1.417549</td>\n",
       "      <td>1.505433</td>\n",
       "      <td>498.0</td>\n",
       "      <td>498.0</td>\n",
       "      <td>499.0</td>\n",
       "      <td>1layer60</td>\n",
       "    </tr>\n",
       "    <tr>\n",
       "      <th>15</th>\n",
       "      <td>logistic</td>\n",
       "      <td>0.9</td>\n",
       "      <td>128</td>\n",
       "      <td>[60]</td>\n",
       "      <td>0.0005</td>\n",
       "      <td>fixed</td>\n",
       "      <td>0.0050</td>\n",
       "      <td>1.520863</td>\n",
       "      <td>0.092152</td>\n",
       "      <td>1.637765</td>\n",
       "      <td>1.412527</td>\n",
       "      <td>1.512295</td>\n",
       "      <td>498.0</td>\n",
       "      <td>499.0</td>\n",
       "      <td>499.0</td>\n",
       "      <td>1layer60</td>\n",
       "    </tr>\n",
       "    <tr>\n",
       "      <th>16</th>\n",
       "      <td>logistic</td>\n",
       "      <td>0.9</td>\n",
       "      <td>128</td>\n",
       "      <td>[20, 20]</td>\n",
       "      <td>0.0010</td>\n",
       "      <td>fixed</td>\n",
       "      <td>0.0050</td>\n",
       "      <td>1.522867</td>\n",
       "      <td>0.075660</td>\n",
       "      <td>1.619967</td>\n",
       "      <td>1.435391</td>\n",
       "      <td>1.513244</td>\n",
       "      <td>388.0</td>\n",
       "      <td>481.0</td>\n",
       "      <td>390.0</td>\n",
       "      <td>2layer20</td>\n",
       "    </tr>\n",
       "    <tr>\n",
       "      <th>17</th>\n",
       "      <td>logistic</td>\n",
       "      <td>0.9</td>\n",
       "      <td>128</td>\n",
       "      <td>[20, 20, 20]</td>\n",
       "      <td>0.0010</td>\n",
       "      <td>fixed</td>\n",
       "      <td>0.0500</td>\n",
       "      <td>1.523349</td>\n",
       "      <td>0.064327</td>\n",
       "      <td>1.610128</td>\n",
       "      <td>1.503604</td>\n",
       "      <td>1.456315</td>\n",
       "      <td>200.0</td>\n",
       "      <td>145.0</td>\n",
       "      <td>212.0</td>\n",
       "      <td>3layer20</td>\n",
       "    </tr>\n",
       "    <tr>\n",
       "      <th>18</th>\n",
       "      <td>logistic</td>\n",
       "      <td>0.7</td>\n",
       "      <td>128</td>\n",
       "      <td>[20, 20, 20]</td>\n",
       "      <td>0.0001</td>\n",
       "      <td>fixed</td>\n",
       "      <td>0.0050</td>\n",
       "      <td>1.525962</td>\n",
       "      <td>0.093273</td>\n",
       "      <td>1.644557</td>\n",
       "      <td>1.416654</td>\n",
       "      <td>1.516673</td>\n",
       "      <td>498.0</td>\n",
       "      <td>496.0</td>\n",
       "      <td>496.0</td>\n",
       "      <td>3layer20</td>\n",
       "    </tr>\n",
       "    <tr>\n",
       "      <th>19</th>\n",
       "      <td>logistic</td>\n",
       "      <td>0.7</td>\n",
       "      <td>128</td>\n",
       "      <td>[60]</td>\n",
       "      <td>0.0001</td>\n",
       "      <td>fixed</td>\n",
       "      <td>0.0500</td>\n",
       "      <td>1.532927</td>\n",
       "      <td>0.066600</td>\n",
       "      <td>1.620700</td>\n",
       "      <td>1.459456</td>\n",
       "      <td>1.518625</td>\n",
       "      <td>494.0</td>\n",
       "      <td>490.0</td>\n",
       "      <td>471.0</td>\n",
       "      <td>1layer60</td>\n",
       "    </tr>\n",
       "    <tr>\n",
       "      <th>20</th>\n",
       "      <td>logistic</td>\n",
       "      <td>0.9</td>\n",
       "      <td>128</td>\n",
       "      <td>[20, 20]</td>\n",
       "      <td>0.0005</td>\n",
       "      <td>fixed</td>\n",
       "      <td>0.0500</td>\n",
       "      <td>1.535400</td>\n",
       "      <td>0.086588</td>\n",
       "      <td>1.625434</td>\n",
       "      <td>1.562261</td>\n",
       "      <td>1.418503</td>\n",
       "      <td>368.0</td>\n",
       "      <td>269.0</td>\n",
       "      <td>397.0</td>\n",
       "      <td>2layer20</td>\n",
       "    </tr>\n",
       "    <tr>\n",
       "      <th>21</th>\n",
       "      <td>logistic</td>\n",
       "      <td>0.9</td>\n",
       "      <td>128</td>\n",
       "      <td>[60]</td>\n",
       "      <td>0.0010</td>\n",
       "      <td>fixed</td>\n",
       "      <td>0.0500</td>\n",
       "      <td>1.538979</td>\n",
       "      <td>0.048083</td>\n",
       "      <td>1.605776</td>\n",
       "      <td>1.494558</td>\n",
       "      <td>1.516603</td>\n",
       "      <td>448.0</td>\n",
       "      <td>312.0</td>\n",
       "      <td>410.0</td>\n",
       "      <td>1layer60</td>\n",
       "    </tr>\n",
       "    <tr>\n",
       "      <th>22</th>\n",
       "      <td>logistic</td>\n",
       "      <td>0.9</td>\n",
       "      <td>128</td>\n",
       "      <td>[20, 20]</td>\n",
       "      <td>0.0001</td>\n",
       "      <td>fixed</td>\n",
       "      <td>0.0500</td>\n",
       "      <td>1.546032</td>\n",
       "      <td>0.084244</td>\n",
       "      <td>1.650853</td>\n",
       "      <td>1.444582</td>\n",
       "      <td>1.542662</td>\n",
       "      <td>351.0</td>\n",
       "      <td>127.0</td>\n",
       "      <td>488.0</td>\n",
       "      <td>2layer20</td>\n",
       "    </tr>\n",
       "    <tr>\n",
       "      <th>23</th>\n",
       "      <td>logistic</td>\n",
       "      <td>0.7</td>\n",
       "      <td>128</td>\n",
       "      <td>[20, 20, 20]</td>\n",
       "      <td>0.0005</td>\n",
       "      <td>fixed</td>\n",
       "      <td>0.0050</td>\n",
       "      <td>1.550418</td>\n",
       "      <td>0.094006</td>\n",
       "      <td>1.648737</td>\n",
       "      <td>1.423762</td>\n",
       "      <td>1.578756</td>\n",
       "      <td>486.0</td>\n",
       "      <td>498.0</td>\n",
       "      <td>498.0</td>\n",
       "      <td>3layer20</td>\n",
       "    </tr>\n",
       "    <tr>\n",
       "      <th>24</th>\n",
       "      <td>logistic</td>\n",
       "      <td>0.7</td>\n",
       "      <td>128</td>\n",
       "      <td>[20, 20]</td>\n",
       "      <td>0.0001</td>\n",
       "      <td>fixed</td>\n",
       "      <td>0.0050</td>\n",
       "      <td>1.552478</td>\n",
       "      <td>0.082709</td>\n",
       "      <td>1.656919</td>\n",
       "      <td>1.454647</td>\n",
       "      <td>1.545867</td>\n",
       "      <td>499.0</td>\n",
       "      <td>494.0</td>\n",
       "      <td>496.0</td>\n",
       "      <td>2layer20</td>\n",
       "    </tr>\n",
       "    <tr>\n",
       "      <th>25</th>\n",
       "      <td>logistic</td>\n",
       "      <td>0.9</td>\n",
       "      <td>128</td>\n",
       "      <td>[20, 20, 20]</td>\n",
       "      <td>0.0001</td>\n",
       "      <td>fixed</td>\n",
       "      <td>0.0500</td>\n",
       "      <td>1.552808</td>\n",
       "      <td>0.066118</td>\n",
       "      <td>1.627995</td>\n",
       "      <td>1.563357</td>\n",
       "      <td>1.467072</td>\n",
       "      <td>99.0</td>\n",
       "      <td>307.0</td>\n",
       "      <td>234.0</td>\n",
       "      <td>3layer20</td>\n",
       "    </tr>\n",
       "    <tr>\n",
       "      <th>26</th>\n",
       "      <td>logistic</td>\n",
       "      <td>0.9</td>\n",
       "      <td>128</td>\n",
       "      <td>[60]</td>\n",
       "      <td>0.0010</td>\n",
       "      <td>fixed</td>\n",
       "      <td>0.0050</td>\n",
       "      <td>1.556884</td>\n",
       "      <td>0.086502</td>\n",
       "      <td>1.669909</td>\n",
       "      <td>1.459838</td>\n",
       "      <td>1.540904</td>\n",
       "      <td>495.0</td>\n",
       "      <td>499.0</td>\n",
       "      <td>499.0</td>\n",
       "      <td>1layer60</td>\n",
       "    </tr>\n",
       "    <tr>\n",
       "      <th>27</th>\n",
       "      <td>logistic</td>\n",
       "      <td>0.7</td>\n",
       "      <td>128</td>\n",
       "      <td>[20, 20]</td>\n",
       "      <td>0.0005</td>\n",
       "      <td>fixed</td>\n",
       "      <td>0.0050</td>\n",
       "      <td>1.566382</td>\n",
       "      <td>0.079332</td>\n",
       "      <td>1.672811</td>\n",
       "      <td>1.482428</td>\n",
       "      <td>1.543907</td>\n",
       "      <td>496.0</td>\n",
       "      <td>480.0</td>\n",
       "      <td>486.0</td>\n",
       "      <td>2layer20</td>\n",
       "    </tr>\n",
       "    <tr>\n",
       "      <th>28</th>\n",
       "      <td>logistic</td>\n",
       "      <td>0.9</td>\n",
       "      <td>128</td>\n",
       "      <td>[60]</td>\n",
       "      <td>0.0005</td>\n",
       "      <td>fixed</td>\n",
       "      <td>0.0500</td>\n",
       "      <td>1.593527</td>\n",
       "      <td>0.046067</td>\n",
       "      <td>1.638943</td>\n",
       "      <td>1.530368</td>\n",
       "      <td>1.611270</td>\n",
       "      <td>273.0</td>\n",
       "      <td>319.0</td>\n",
       "      <td>451.0</td>\n",
       "      <td>1layer60</td>\n",
       "    </tr>\n",
       "    <tr>\n",
       "      <th>29</th>\n",
       "      <td>logistic</td>\n",
       "      <td>0.9</td>\n",
       "      <td>128</td>\n",
       "      <td>[20, 20, 20]</td>\n",
       "      <td>0.0005</td>\n",
       "      <td>fixed</td>\n",
       "      <td>0.0500</td>\n",
       "      <td>1.595258</td>\n",
       "      <td>0.043476</td>\n",
       "      <td>1.610512</td>\n",
       "      <td>1.536049</td>\n",
       "      <td>1.639214</td>\n",
       "      <td>241.0</td>\n",
       "      <td>285.0</td>\n",
       "      <td>129.0</td>\n",
       "      <td>3layer20</td>\n",
       "    </tr>\n",
       "    <tr>\n",
       "      <th>30</th>\n",
       "      <td>logistic</td>\n",
       "      <td>0.9</td>\n",
       "      <td>128</td>\n",
       "      <td>[60]</td>\n",
       "      <td>0.0001</td>\n",
       "      <td>fixed</td>\n",
       "      <td>0.0500</td>\n",
       "      <td>1.597747</td>\n",
       "      <td>0.088730</td>\n",
       "      <td>1.721977</td>\n",
       "      <td>1.550947</td>\n",
       "      <td>1.520315</td>\n",
       "      <td>499.0</td>\n",
       "      <td>347.0</td>\n",
       "      <td>231.0</td>\n",
       "      <td>1layer60</td>\n",
       "    </tr>\n",
       "    <tr>\n",
       "      <th>31</th>\n",
       "      <td>logistic</td>\n",
       "      <td>0.7</td>\n",
       "      <td>128</td>\n",
       "      <td>[20, 20, 20]</td>\n",
       "      <td>0.0010</td>\n",
       "      <td>fixed</td>\n",
       "      <td>0.0050</td>\n",
       "      <td>1.610149</td>\n",
       "      <td>0.081660</td>\n",
       "      <td>1.705623</td>\n",
       "      <td>1.506143</td>\n",
       "      <td>1.618679</td>\n",
       "      <td>391.0</td>\n",
       "      <td>394.0</td>\n",
       "      <td>360.0</td>\n",
       "      <td>3layer20</td>\n",
       "    </tr>\n",
       "    <tr>\n",
       "      <th>32</th>\n",
       "      <td>logistic</td>\n",
       "      <td>0.7</td>\n",
       "      <td>128</td>\n",
       "      <td>[20, 20]</td>\n",
       "      <td>0.0010</td>\n",
       "      <td>fixed</td>\n",
       "      <td>0.0050</td>\n",
       "      <td>1.621345</td>\n",
       "      <td>0.075981</td>\n",
       "      <td>1.710445</td>\n",
       "      <td>1.524779</td>\n",
       "      <td>1.628812</td>\n",
       "      <td>378.0</td>\n",
       "      <td>393.0</td>\n",
       "      <td>394.0</td>\n",
       "      <td>2layer20</td>\n",
       "    </tr>\n",
       "    <tr>\n",
       "      <th>33</th>\n",
       "      <td>logistic</td>\n",
       "      <td>0.7</td>\n",
       "      <td>128</td>\n",
       "      <td>[60]</td>\n",
       "      <td>0.0001</td>\n",
       "      <td>fixed</td>\n",
       "      <td>0.0050</td>\n",
       "      <td>1.629100</td>\n",
       "      <td>0.080603</td>\n",
       "      <td>1.718613</td>\n",
       "      <td>1.523221</td>\n",
       "      <td>1.645466</td>\n",
       "      <td>499.0</td>\n",
       "      <td>495.0</td>\n",
       "      <td>496.0</td>\n",
       "      <td>1layer60</td>\n",
       "    </tr>\n",
       "    <tr>\n",
       "      <th>34</th>\n",
       "      <td>logistic</td>\n",
       "      <td>0.9</td>\n",
       "      <td>128</td>\n",
       "      <td>[20, 20, 20]</td>\n",
       "      <td>0.0001</td>\n",
       "      <td>fixed</td>\n",
       "      <td>0.0005</td>\n",
       "      <td>1.648065</td>\n",
       "      <td>0.067238</td>\n",
       "      <td>1.695903</td>\n",
       "      <td>1.552977</td>\n",
       "      <td>1.695317</td>\n",
       "      <td>499.0</td>\n",
       "      <td>498.0</td>\n",
       "      <td>499.0</td>\n",
       "      <td>3layer20</td>\n",
       "    </tr>\n",
       "    <tr>\n",
       "      <th>35</th>\n",
       "      <td>logistic</td>\n",
       "      <td>0.9</td>\n",
       "      <td>128</td>\n",
       "      <td>[20, 20]</td>\n",
       "      <td>0.0001</td>\n",
       "      <td>fixed</td>\n",
       "      <td>0.0005</td>\n",
       "      <td>1.657592</td>\n",
       "      <td>0.095798</td>\n",
       "      <td>1.750877</td>\n",
       "      <td>1.525865</td>\n",
       "      <td>1.696033</td>\n",
       "      <td>499.0</td>\n",
       "      <td>499.0</td>\n",
       "      <td>499.0</td>\n",
       "      <td>2layer20</td>\n",
       "    </tr>\n",
       "    <tr>\n",
       "      <th>36</th>\n",
       "      <td>logistic</td>\n",
       "      <td>0.7</td>\n",
       "      <td>128</td>\n",
       "      <td>[60]</td>\n",
       "      <td>0.0005</td>\n",
       "      <td>fixed</td>\n",
       "      <td>0.0050</td>\n",
       "      <td>1.669723</td>\n",
       "      <td>0.073234</td>\n",
       "      <td>1.762439</td>\n",
       "      <td>1.583393</td>\n",
       "      <td>1.663338</td>\n",
       "      <td>498.0</td>\n",
       "      <td>497.0</td>\n",
       "      <td>498.0</td>\n",
       "      <td>1layer60</td>\n",
       "    </tr>\n",
       "    <tr>\n",
       "      <th>37</th>\n",
       "      <td>logistic</td>\n",
       "      <td>0.9</td>\n",
       "      <td>128</td>\n",
       "      <td>[20, 20]</td>\n",
       "      <td>0.0005</td>\n",
       "      <td>fixed</td>\n",
       "      <td>0.0005</td>\n",
       "      <td>1.699947</td>\n",
       "      <td>0.088986</td>\n",
       "      <td>1.783695</td>\n",
       "      <td>1.576726</td>\n",
       "      <td>1.739419</td>\n",
       "      <td>499.0</td>\n",
       "      <td>496.0</td>\n",
       "      <td>499.0</td>\n",
       "      <td>2layer20</td>\n",
       "    </tr>\n",
       "    <tr>\n",
       "      <th>38</th>\n",
       "      <td>logistic</td>\n",
       "      <td>0.9</td>\n",
       "      <td>128</td>\n",
       "      <td>[20, 20, 20]</td>\n",
       "      <td>0.0005</td>\n",
       "      <td>fixed</td>\n",
       "      <td>0.0005</td>\n",
       "      <td>1.715524</td>\n",
       "      <td>0.092064</td>\n",
       "      <td>1.804871</td>\n",
       "      <td>1.588836</td>\n",
       "      <td>1.752865</td>\n",
       "      <td>499.0</td>\n",
       "      <td>499.0</td>\n",
       "      <td>498.0</td>\n",
       "      <td>3layer20</td>\n",
       "    </tr>\n",
       "    <tr>\n",
       "      <th>39</th>\n",
       "      <td>logistic</td>\n",
       "      <td>0.7</td>\n",
       "      <td>128</td>\n",
       "      <td>[60]</td>\n",
       "      <td>0.0010</td>\n",
       "      <td>fixed</td>\n",
       "      <td>0.0050</td>\n",
       "      <td>1.728466</td>\n",
       "      <td>0.073166</td>\n",
       "      <td>1.826145</td>\n",
       "      <td>1.650063</td>\n",
       "      <td>1.709190</td>\n",
       "      <td>494.0</td>\n",
       "      <td>499.0</td>\n",
       "      <td>488.0</td>\n",
       "      <td>1layer60</td>\n",
       "    </tr>\n",
       "    <tr>\n",
       "      <th>40</th>\n",
       "      <td>logistic</td>\n",
       "      <td>0.9</td>\n",
       "      <td>128</td>\n",
       "      <td>[20, 20]</td>\n",
       "      <td>0.0010</td>\n",
       "      <td>fixed</td>\n",
       "      <td>0.0005</td>\n",
       "      <td>1.821025</td>\n",
       "      <td>0.074199</td>\n",
       "      <td>1.884690</td>\n",
       "      <td>1.716954</td>\n",
       "      <td>1.861429</td>\n",
       "      <td>499.0</td>\n",
       "      <td>499.0</td>\n",
       "      <td>499.0</td>\n",
       "      <td>2layer20</td>\n",
       "    </tr>\n",
       "    <tr>\n",
       "      <th>41</th>\n",
       "      <td>logistic</td>\n",
       "      <td>0.9</td>\n",
       "      <td>128</td>\n",
       "      <td>[60]</td>\n",
       "      <td>0.0001</td>\n",
       "      <td>fixed</td>\n",
       "      <td>0.0005</td>\n",
       "      <td>1.828676</td>\n",
       "      <td>0.065522</td>\n",
       "      <td>1.899925</td>\n",
       "      <td>1.741744</td>\n",
       "      <td>1.844358</td>\n",
       "      <td>499.0</td>\n",
       "      <td>499.0</td>\n",
       "      <td>499.0</td>\n",
       "      <td>1layer60</td>\n",
       "    </tr>\n",
       "    <tr>\n",
       "      <th>42</th>\n",
       "      <td>logistic</td>\n",
       "      <td>0.9</td>\n",
       "      <td>128</td>\n",
       "      <td>[20, 20, 20]</td>\n",
       "      <td>0.0010</td>\n",
       "      <td>fixed</td>\n",
       "      <td>0.0005</td>\n",
       "      <td>1.844818</td>\n",
       "      <td>0.077996</td>\n",
       "      <td>1.902425</td>\n",
       "      <td>1.734552</td>\n",
       "      <td>1.897478</td>\n",
       "      <td>497.0</td>\n",
       "      <td>497.0</td>\n",
       "      <td>497.0</td>\n",
       "      <td>3layer20</td>\n",
       "    </tr>\n",
       "    <tr>\n",
       "      <th>43</th>\n",
       "      <td>logistic</td>\n",
       "      <td>0.7</td>\n",
       "      <td>128</td>\n",
       "      <td>[20, 20, 20]</td>\n",
       "      <td>0.0001</td>\n",
       "      <td>fixed</td>\n",
       "      <td>0.0005</td>\n",
       "      <td>1.857497</td>\n",
       "      <td>0.107957</td>\n",
       "      <td>1.968900</td>\n",
       "      <td>1.711385</td>\n",
       "      <td>1.892205</td>\n",
       "      <td>499.0</td>\n",
       "      <td>499.0</td>\n",
       "      <td>499.0</td>\n",
       "      <td>3layer20</td>\n",
       "    </tr>\n",
       "    <tr>\n",
       "      <th>44</th>\n",
       "      <td>logistic</td>\n",
       "      <td>0.9</td>\n",
       "      <td>128</td>\n",
       "      <td>[60]</td>\n",
       "      <td>0.0005</td>\n",
       "      <td>fixed</td>\n",
       "      <td>0.0005</td>\n",
       "      <td>1.859186</td>\n",
       "      <td>0.080453</td>\n",
       "      <td>1.955652</td>\n",
       "      <td>1.758706</td>\n",
       "      <td>1.863201</td>\n",
       "      <td>499.0</td>\n",
       "      <td>499.0</td>\n",
       "      <td>499.0</td>\n",
       "      <td>1layer60</td>\n",
       "    </tr>\n",
       "    <tr>\n",
       "      <th>45</th>\n",
       "      <td>logistic</td>\n",
       "      <td>0.7</td>\n",
       "      <td>128</td>\n",
       "      <td>[20, 20]</td>\n",
       "      <td>0.0001</td>\n",
       "      <td>fixed</td>\n",
       "      <td>0.0005</td>\n",
       "      <td>1.925072</td>\n",
       "      <td>0.086411</td>\n",
       "      <td>2.004059</td>\n",
       "      <td>1.804826</td>\n",
       "      <td>1.966330</td>\n",
       "      <td>499.0</td>\n",
       "      <td>499.0</td>\n",
       "      <td>499.0</td>\n",
       "      <td>2layer20</td>\n",
       "    </tr>\n",
       "    <tr>\n",
       "      <th>46</th>\n",
       "      <td>logistic</td>\n",
       "      <td>0.9</td>\n",
       "      <td>128</td>\n",
       "      <td>[60]</td>\n",
       "      <td>0.0010</td>\n",
       "      <td>fixed</td>\n",
       "      <td>0.0005</td>\n",
       "      <td>1.947054</td>\n",
       "      <td>0.066385</td>\n",
       "      <td>2.016040</td>\n",
       "      <td>1.857414</td>\n",
       "      <td>1.967709</td>\n",
       "      <td>497.0</td>\n",
       "      <td>499.0</td>\n",
       "      <td>499.0</td>\n",
       "      <td>1layer60</td>\n",
       "    </tr>\n",
       "    <tr>\n",
       "      <th>47</th>\n",
       "      <td>logistic</td>\n",
       "      <td>0.7</td>\n",
       "      <td>128</td>\n",
       "      <td>[60]</td>\n",
       "      <td>0.0001</td>\n",
       "      <td>fixed</td>\n",
       "      <td>0.0005</td>\n",
       "      <td>1.980500</td>\n",
       "      <td>0.102384</td>\n",
       "      <td>2.092267</td>\n",
       "      <td>1.844900</td>\n",
       "      <td>2.004333</td>\n",
       "      <td>499.0</td>\n",
       "      <td>499.0</td>\n",
       "      <td>499.0</td>\n",
       "      <td>1layer60</td>\n",
       "    </tr>\n",
       "    <tr>\n",
       "      <th>48</th>\n",
       "      <td>logistic</td>\n",
       "      <td>0.7</td>\n",
       "      <td>128</td>\n",
       "      <td>[20, 20]</td>\n",
       "      <td>0.0005</td>\n",
       "      <td>fixed</td>\n",
       "      <td>0.0005</td>\n",
       "      <td>2.055261</td>\n",
       "      <td>0.019502</td>\n",
       "      <td>2.047874</td>\n",
       "      <td>2.081967</td>\n",
       "      <td>2.035941</td>\n",
       "      <td>499.0</td>\n",
       "      <td>499.0</td>\n",
       "      <td>499.0</td>\n",
       "      <td>2layer20</td>\n",
       "    </tr>\n",
       "    <tr>\n",
       "      <th>49</th>\n",
       "      <td>logistic</td>\n",
       "      <td>0.7</td>\n",
       "      <td>128</td>\n",
       "      <td>[60]</td>\n",
       "      <td>0.0005</td>\n",
       "      <td>fixed</td>\n",
       "      <td>0.0005</td>\n",
       "      <td>2.072327</td>\n",
       "      <td>0.054015</td>\n",
       "      <td>2.127597</td>\n",
       "      <td>1.999026</td>\n",
       "      <td>2.090360</td>\n",
       "      <td>499.0</td>\n",
       "      <td>499.0</td>\n",
       "      <td>499.0</td>\n",
       "      <td>1layer60</td>\n",
       "    </tr>\n",
       "    <tr>\n",
       "      <th>50</th>\n",
       "      <td>logistic</td>\n",
       "      <td>0.7</td>\n",
       "      <td>128</td>\n",
       "      <td>[60]</td>\n",
       "      <td>0.0010</td>\n",
       "      <td>fixed</td>\n",
       "      <td>0.0005</td>\n",
       "      <td>2.163758</td>\n",
       "      <td>0.062762</td>\n",
       "      <td>2.206234</td>\n",
       "      <td>2.075026</td>\n",
       "      <td>2.210013</td>\n",
       "      <td>499.0</td>\n",
       "      <td>499.0</td>\n",
       "      <td>498.0</td>\n",
       "      <td>1layer60</td>\n",
       "    </tr>\n",
       "    <tr>\n",
       "      <th>51</th>\n",
       "      <td>logistic</td>\n",
       "      <td>0.7</td>\n",
       "      <td>128</td>\n",
       "      <td>[20, 20, 20]</td>\n",
       "      <td>0.0005</td>\n",
       "      <td>fixed</td>\n",
       "      <td>0.0005</td>\n",
       "      <td>2.237433</td>\n",
       "      <td>0.170682</td>\n",
       "      <td>2.153746</td>\n",
       "      <td>2.083201</td>\n",
       "      <td>2.475353</td>\n",
       "      <td>499.0</td>\n",
       "      <td>499.0</td>\n",
       "      <td>499.0</td>\n",
       "      <td>3layer20</td>\n",
       "    </tr>\n",
       "    <tr>\n",
       "      <th>52</th>\n",
       "      <td>logistic</td>\n",
       "      <td>0.7</td>\n",
       "      <td>128</td>\n",
       "      <td>[20, 20]</td>\n",
       "      <td>0.0010</td>\n",
       "      <td>fixed</td>\n",
       "      <td>0.0005</td>\n",
       "      <td>2.463431</td>\n",
       "      <td>0.059826</td>\n",
       "      <td>2.387276</td>\n",
       "      <td>2.533432</td>\n",
       "      <td>2.469585</td>\n",
       "      <td>497.0</td>\n",
       "      <td>499.0</td>\n",
       "      <td>498.0</td>\n",
       "      <td>2layer20</td>\n",
       "    </tr>\n",
       "    <tr>\n",
       "      <th>53</th>\n",
       "      <td>logistic</td>\n",
       "      <td>0.7</td>\n",
       "      <td>128</td>\n",
       "      <td>[20, 20, 20]</td>\n",
       "      <td>0.0010</td>\n",
       "      <td>fixed</td>\n",
       "      <td>0.0005</td>\n",
       "      <td>3.051205</td>\n",
       "      <td>0.298929</td>\n",
       "      <td>2.953088</td>\n",
       "      <td>2.744149</td>\n",
       "      <td>3.456377</td>\n",
       "      <td>499.0</td>\n",
       "      <td>499.0</td>\n",
       "      <td>499.0</td>\n",
       "      <td>3layer20</td>\n",
       "    </tr>\n",
       "  </tbody>\n",
       "</table>\n",
       "</div>"
      ],
      "text/plain": [
       "   activation_hidden  alpha batch_size hidden_layer_sizes   lambd  \\\n",
       "0           logistic    0.9        128       [20, 20, 20]  0.0001   \n",
       "1           logistic    0.7        128           [20, 20]  0.0005   \n",
       "2           logistic    0.7        128           [20, 20]  0.0001   \n",
       "3           logistic    0.7        128           [20, 20]  0.0010   \n",
       "4           logistic    0.9        128       [20, 20, 20]  0.0005   \n",
       "5           logistic    0.7        128       [20, 20, 20]  0.0005   \n",
       "6           logistic    0.9        128           [20, 20]  0.0005   \n",
       "7           logistic    0.7        128       [20, 20, 20]  0.0001   \n",
       "8           logistic    0.7        128       [20, 20, 20]  0.0010   \n",
       "9           logistic    0.7        128               [60]  0.0010   \n",
       "10          logistic    0.7        128               [60]  0.0005   \n",
       "11          logistic    0.9        128           [20, 20]  0.0001   \n",
       "12          logistic    0.9        128       [20, 20, 20]  0.0010   \n",
       "13          logistic    0.9        128           [20, 20]  0.0010   \n",
       "14          logistic    0.9        128               [60]  0.0001   \n",
       "15          logistic    0.9        128               [60]  0.0005   \n",
       "16          logistic    0.9        128           [20, 20]  0.0010   \n",
       "17          logistic    0.9        128       [20, 20, 20]  0.0010   \n",
       "18          logistic    0.7        128       [20, 20, 20]  0.0001   \n",
       "19          logistic    0.7        128               [60]  0.0001   \n",
       "20          logistic    0.9        128           [20, 20]  0.0005   \n",
       "21          logistic    0.9        128               [60]  0.0010   \n",
       "22          logistic    0.9        128           [20, 20]  0.0001   \n",
       "23          logistic    0.7        128       [20, 20, 20]  0.0005   \n",
       "24          logistic    0.7        128           [20, 20]  0.0001   \n",
       "25          logistic    0.9        128       [20, 20, 20]  0.0001   \n",
       "26          logistic    0.9        128               [60]  0.0010   \n",
       "27          logistic    0.7        128           [20, 20]  0.0005   \n",
       "28          logistic    0.9        128               [60]  0.0005   \n",
       "29          logistic    0.9        128       [20, 20, 20]  0.0005   \n",
       "30          logistic    0.9        128               [60]  0.0001   \n",
       "31          logistic    0.7        128       [20, 20, 20]  0.0010   \n",
       "32          logistic    0.7        128           [20, 20]  0.0010   \n",
       "33          logistic    0.7        128               [60]  0.0001   \n",
       "34          logistic    0.9        128       [20, 20, 20]  0.0001   \n",
       "35          logistic    0.9        128           [20, 20]  0.0001   \n",
       "36          logistic    0.7        128               [60]  0.0005   \n",
       "37          logistic    0.9        128           [20, 20]  0.0005   \n",
       "38          logistic    0.9        128       [20, 20, 20]  0.0005   \n",
       "39          logistic    0.7        128               [60]  0.0010   \n",
       "40          logistic    0.9        128           [20, 20]  0.0010   \n",
       "41          logistic    0.9        128               [60]  0.0001   \n",
       "42          logistic    0.9        128       [20, 20, 20]  0.0010   \n",
       "43          logistic    0.7        128       [20, 20, 20]  0.0001   \n",
       "44          logistic    0.9        128               [60]  0.0005   \n",
       "45          logistic    0.7        128           [20, 20]  0.0001   \n",
       "46          logistic    0.9        128               [60]  0.0010   \n",
       "47          logistic    0.7        128               [60]  0.0001   \n",
       "48          logistic    0.7        128           [20, 20]  0.0005   \n",
       "49          logistic    0.7        128               [60]  0.0005   \n",
       "50          logistic    0.7        128               [60]  0.0010   \n",
       "51          logistic    0.7        128       [20, 20, 20]  0.0005   \n",
       "52          logistic    0.7        128           [20, 20]  0.0010   \n",
       "53          logistic    0.7        128       [20, 20, 20]  0.0010   \n",
       "\n",
       "   learning_rate  learning_rate_init  val_MEE_mean  val_MEE_dev  \\\n",
       "0          fixed              0.0050      1.471094     0.037880   \n",
       "1          fixed              0.0500      1.471185     0.087932   \n",
       "2          fixed              0.0500      1.479863     0.090948   \n",
       "3          fixed              0.0500      1.480510     0.063826   \n",
       "4          fixed              0.0050      1.486053     0.082569   \n",
       "5          fixed              0.0500      1.488816     0.076520   \n",
       "6          fixed              0.0050      1.491330     0.083307   \n",
       "7          fixed              0.0500      1.499663     0.042792   \n",
       "8          fixed              0.0500      1.500669     0.076486   \n",
       "9          fixed              0.0500      1.503138     0.074156   \n",
       "10         fixed              0.0500      1.504148     0.064690   \n",
       "11         fixed              0.0050      1.505684     0.055399   \n",
       "12         fixed              0.0050      1.509748     0.082725   \n",
       "13         fixed              0.0500      1.517257     0.050390   \n",
       "14         fixed              0.0050      1.519775     0.089896   \n",
       "15         fixed              0.0050      1.520863     0.092152   \n",
       "16         fixed              0.0050      1.522867     0.075660   \n",
       "17         fixed              0.0500      1.523349     0.064327   \n",
       "18         fixed              0.0050      1.525962     0.093273   \n",
       "19         fixed              0.0500      1.532927     0.066600   \n",
       "20         fixed              0.0500      1.535400     0.086588   \n",
       "21         fixed              0.0500      1.538979     0.048083   \n",
       "22         fixed              0.0500      1.546032     0.084244   \n",
       "23         fixed              0.0050      1.550418     0.094006   \n",
       "24         fixed              0.0050      1.552478     0.082709   \n",
       "25         fixed              0.0500      1.552808     0.066118   \n",
       "26         fixed              0.0050      1.556884     0.086502   \n",
       "27         fixed              0.0050      1.566382     0.079332   \n",
       "28         fixed              0.0500      1.593527     0.046067   \n",
       "29         fixed              0.0500      1.595258     0.043476   \n",
       "30         fixed              0.0500      1.597747     0.088730   \n",
       "31         fixed              0.0050      1.610149     0.081660   \n",
       "32         fixed              0.0050      1.621345     0.075981   \n",
       "33         fixed              0.0050      1.629100     0.080603   \n",
       "34         fixed              0.0005      1.648065     0.067238   \n",
       "35         fixed              0.0005      1.657592     0.095798   \n",
       "36         fixed              0.0050      1.669723     0.073234   \n",
       "37         fixed              0.0005      1.699947     0.088986   \n",
       "38         fixed              0.0005      1.715524     0.092064   \n",
       "39         fixed              0.0050      1.728466     0.073166   \n",
       "40         fixed              0.0005      1.821025     0.074199   \n",
       "41         fixed              0.0005      1.828676     0.065522   \n",
       "42         fixed              0.0005      1.844818     0.077996   \n",
       "43         fixed              0.0005      1.857497     0.107957   \n",
       "44         fixed              0.0005      1.859186     0.080453   \n",
       "45         fixed              0.0005      1.925072     0.086411   \n",
       "46         fixed              0.0005      1.947054     0.066385   \n",
       "47         fixed              0.0005      1.980500     0.102384   \n",
       "48         fixed              0.0005      2.055261     0.019502   \n",
       "49         fixed              0.0005      2.072327     0.054015   \n",
       "50         fixed              0.0005      2.163758     0.062762   \n",
       "51         fixed              0.0005      2.237433     0.170682   \n",
       "52         fixed              0.0005      2.463431     0.059826   \n",
       "53         fixed              0.0005      3.051205     0.298929   \n",
       "\n",
       "    split0_val_MEE  split1_val_MEE  split2_val_MEE  split0_best_epoch  \\\n",
       "0         1.522030        1.431255        1.459997              497.0   \n",
       "1         1.577626        1.362280        1.473650              359.0   \n",
       "2         1.606103        1.438071        1.395415              449.0   \n",
       "3         1.569605        1.423427        1.448497              229.0   \n",
       "4         1.588588        1.386397        1.483175              497.0   \n",
       "5         1.595879        1.448922        1.421646              426.0   \n",
       "6         1.601460        1.400023        1.472506              496.0   \n",
       "7         1.559414        1.478098        1.461477              351.0   \n",
       "8         1.555888        1.392510        1.553609              206.0   \n",
       "9         1.601040        1.421630        1.486743              351.0   \n",
       "10        1.593887        1.443873        1.474684              320.0   \n",
       "11        1.573074        1.437384        1.506595              498.0   \n",
       "12        1.615729        1.413850        1.499664              222.0   \n",
       "13        1.576794        1.521403        1.453575              310.0   \n",
       "14        1.636342        1.417549        1.505433              498.0   \n",
       "15        1.637765        1.412527        1.512295              498.0   \n",
       "16        1.619967        1.435391        1.513244              388.0   \n",
       "17        1.610128        1.503604        1.456315              200.0   \n",
       "18        1.644557        1.416654        1.516673              498.0   \n",
       "19        1.620700        1.459456        1.518625              494.0   \n",
       "20        1.625434        1.562261        1.418503              368.0   \n",
       "21        1.605776        1.494558        1.516603              448.0   \n",
       "22        1.650853        1.444582        1.542662              351.0   \n",
       "23        1.648737        1.423762        1.578756              486.0   \n",
       "24        1.656919        1.454647        1.545867              499.0   \n",
       "25        1.627995        1.563357        1.467072               99.0   \n",
       "26        1.669909        1.459838        1.540904              495.0   \n",
       "27        1.672811        1.482428        1.543907              496.0   \n",
       "28        1.638943        1.530368        1.611270              273.0   \n",
       "29        1.610512        1.536049        1.639214              241.0   \n",
       "30        1.721977        1.550947        1.520315              499.0   \n",
       "31        1.705623        1.506143        1.618679              391.0   \n",
       "32        1.710445        1.524779        1.628812              378.0   \n",
       "33        1.718613        1.523221        1.645466              499.0   \n",
       "34        1.695903        1.552977        1.695317              499.0   \n",
       "35        1.750877        1.525865        1.696033              499.0   \n",
       "36        1.762439        1.583393        1.663338              498.0   \n",
       "37        1.783695        1.576726        1.739419              499.0   \n",
       "38        1.804871        1.588836        1.752865              499.0   \n",
       "39        1.826145        1.650063        1.709190              494.0   \n",
       "40        1.884690        1.716954        1.861429              499.0   \n",
       "41        1.899925        1.741744        1.844358              499.0   \n",
       "42        1.902425        1.734552        1.897478              497.0   \n",
       "43        1.968900        1.711385        1.892205              499.0   \n",
       "44        1.955652        1.758706        1.863201              499.0   \n",
       "45        2.004059        1.804826        1.966330              499.0   \n",
       "46        2.016040        1.857414        1.967709              497.0   \n",
       "47        2.092267        1.844900        2.004333              499.0   \n",
       "48        2.047874        2.081967        2.035941              499.0   \n",
       "49        2.127597        1.999026        2.090360              499.0   \n",
       "50        2.206234        2.075026        2.210013              499.0   \n",
       "51        2.153746        2.083201        2.475353              499.0   \n",
       "52        2.387276        2.533432        2.469585              497.0   \n",
       "53        2.953088        2.744149        3.456377              499.0   \n",
       "\n",
       "    split1_best_epoch  split2_best_epoch    hidden  \n",
       "0               496.0              473.0  3layer20  \n",
       "1               498.0              479.0  2layer20  \n",
       "2               499.0              496.0  2layer20  \n",
       "3               340.0              387.0  2layer20  \n",
       "4               490.0              464.0  3layer20  \n",
       "5               327.0              177.0  3layer20  \n",
       "6               499.0              498.0  2layer20  \n",
       "7               492.0              477.0  3layer20  \n",
       "8               155.0               97.0  3layer20  \n",
       "9               451.0              408.0  1layer60  \n",
       "10              491.0              494.0  1layer60  \n",
       "11              493.0              496.0  2layer20  \n",
       "12              242.0              387.0  3layer20  \n",
       "13              389.0              305.0  2layer20  \n",
       "14              498.0              499.0  1layer60  \n",
       "15              499.0              499.0  1layer60  \n",
       "16              481.0              390.0  2layer20  \n",
       "17              145.0              212.0  3layer20  \n",
       "18              496.0              496.0  3layer20  \n",
       "19              490.0              471.0  1layer60  \n",
       "20              269.0              397.0  2layer20  \n",
       "21              312.0              410.0  1layer60  \n",
       "22              127.0              488.0  2layer20  \n",
       "23              498.0              498.0  3layer20  \n",
       "24              494.0              496.0  2layer20  \n",
       "25              307.0              234.0  3layer20  \n",
       "26              499.0              499.0  1layer60  \n",
       "27              480.0              486.0  2layer20  \n",
       "28              319.0              451.0  1layer60  \n",
       "29              285.0              129.0  3layer20  \n",
       "30              347.0              231.0  1layer60  \n",
       "31              394.0              360.0  3layer20  \n",
       "32              393.0              394.0  2layer20  \n",
       "33              495.0              496.0  1layer60  \n",
       "34              498.0              499.0  3layer20  \n",
       "35              499.0              499.0  2layer20  \n",
       "36              497.0              498.0  1layer60  \n",
       "37              496.0              499.0  2layer20  \n",
       "38              499.0              498.0  3layer20  \n",
       "39              499.0              488.0  1layer60  \n",
       "40              499.0              499.0  2layer20  \n",
       "41              499.0              499.0  1layer60  \n",
       "42              497.0              497.0  3layer20  \n",
       "43              499.0              499.0  3layer20  \n",
       "44              499.0              499.0  1layer60  \n",
       "45              499.0              499.0  2layer20  \n",
       "46              499.0              499.0  1layer60  \n",
       "47              499.0              499.0  1layer60  \n",
       "48              499.0              499.0  2layer20  \n",
       "49              499.0              499.0  1layer60  \n",
       "50              499.0              498.0  1layer60  \n",
       "51              499.0              499.0  3layer20  \n",
       "52              499.0              498.0  2layer20  \n",
       "53              499.0              499.0  3layer20  "
      ]
     },
     "execution_count": 26,
     "metadata": {},
     "output_type": "execute_result"
    }
   ],
   "source": [
    "import pandas as pd\n",
    "import numpy as np\n",
    "from scipy.stats import gaussian_kde\n",
    "import ast\n",
    "from scipy.stats import rankdata\n",
    "import seaborn as sns\n",
    "import matplotlib.pyplot as plt\n",
    "\n",
    "results_paths = [\n",
    "\t'coarse_gs2_results_giulia1.csv',\n",
    "\t'coarse_gs2_results_giulia2.csv',\n",
    "\t'coarse_gs2_results_irene.csv',\n",
    "\t'coarse_gs2_results_lorenzo.csv'\n",
    "]\n",
    "MEE = 'MEE'\n",
    "MSE = 'MSE'\n",
    "N_MODELS = 54\n",
    "K = 3\n",
    "\n",
    "# concatenate results into a single dataframe\n",
    "scores_df = pd.DataFrame(columns=[])\n",
    "for path in results_paths:\n",
    "\tpartial_scores_df = pd.read_csv(path, sep=\",\")\n",
    "\tscores_df = pd.concat([scores_df, partial_scores_df], ignore_index=True)\n",
    "\n",
    "########### SWAP COLUMNS ##########\n",
    "\n",
    "# NOTE: delete for the fine grid search!\n",
    "\n",
    "# val_mee_mean <--> val_mse_mean\n",
    "# val_mee_dev <--> val_mse_dev\n",
    "# splitX_val_mee <--> split0_val_mse\n",
    "\n",
    "scores_df = scores_df.rename(\n",
    "\tcolumns = {\n",
    "\t\"val_mee_mean\": \"val_MSE_mean\",\n",
    "\t\"val_mee_dev\": \"val_MSE_dev\",\n",
    "\t\"split0_val_mee\": \"split0_val_MSE\",\n",
    "\t\"split1_val_mee\": \"split1_val_MSE\",\n",
    "\t\"split2_val_mee\": \"split2_val_MSE\",\n",
    "\t\"val_mse_mean\" : \"val_MEE_mean\",\n",
    "\t\"val_mse_dev\" : \"val_MEE_dev\",\n",
    "\t\"split0_val_mse\" : \"split0_val_MEE\",\n",
    "\t\"split1_val_mse\" : \"split1_val_MEE\",\n",
    "\t\"split2_val_mse\" : \"split2_val_MEE\"\n",
    "\t}\n",
    ")\n",
    "\n",
    "###########################################\n",
    "\n",
    "# rank results\n",
    "scores_df['val_%s_mean_rank'%MEE] = rankdata(scores_df['val_%s_mean'%MEE], method='dense')\n",
    "scores_df['val_%s_mean_rank'%MSE] = rankdata(scores_df['val_%s_mean'%MSE], method='dense')\n",
    "scores_df['tr_mee_mean_rank'] = rankdata(scores_df['tr_mee_mean'], method='dense')\n",
    "scores_df['tr_mse_mean_rank'] = rankdata(scores_df['tr_mse_mean'], method='dense')\n",
    "\n",
    "# sort results by 'val_score_mean_rank'\n",
    "scores_df = scores_df.sort_values(by=['val_%s_mean_rank'%MEE], ignore_index=True)\n",
    "scores_df.drop(scores_df.columns[0], axis=1, inplace=True)\n",
    "\n",
    "columns_order = [\n",
    "\t'val_%s_mean_rank'%MSE,\n",
    "\t'val_%s_mean'%MSE,\n",
    "\t'val_%s_dev'%MSE,\n",
    "\t'val_%s_mean_rank'%MEE,\n",
    "\t'val_%s_mean'%MEE,\n",
    "\t'val_%s_dev'%MEE,\n",
    "\t'tr_mse_mean_rank',\n",
    "\t'tr_mse_mean',\n",
    "\t'tr_mse_dev',\n",
    "\t'tr_mee_mean_rank',\n",
    "\t'tr_mee_mean',\n",
    "\t'tr_mee_dev',\n",
    "]\n",
    "for i in range(K):\n",
    "\tcolumns_order.append('split%d_val_%s'%(i, MSE))\n",
    "\tcolumns_order.append('split%d_val_%s'%(i, MEE))\n",
    "\tcolumns_order.append('split%d_tr_mse'%(i))\n",
    "\tcolumns_order.append('split%d_tr_mee'%(i))\n",
    "\tcolumns_order.append('split%d_best_epoch'%(i))\n",
    "columns_order.append('params')\n",
    "scores_df = scores_df[columns_order]\n",
    "\n",
    "# write params as csv deleting fixed params\n",
    "rem_list = [ \n",
    "\t'activation_out',\n",
    "\t'classification',\n",
    "\t'early_stopping',\n",
    "\t'evaluation_metric',\n",
    "\t'loss',\n",
    "\t'metric_decrease_tol',\n",
    "\t'random_state',\n",
    "\t'reinit_weights',\n",
    "\t'stopping_patience',\n",
    "\t'tau',\n",
    "\t'tol',\n",
    "\t'validation_size',\n",
    "\t'verbose',\n",
    "\t'weights_bound',\n",
    "\t'weights_dist',\n",
    "\t'epochs', # gs2\n",
    "\t'nesterov'\n",
    "\t]\n",
    "params_df = pd.DataFrame(columns=[])\n",
    "for param in scores_df['params']: # TODO: fare in modo migliore?\n",
    "\tparams_dict = ast.literal_eval(param)\n",
    "\tfor key in rem_list:\n",
    "\t\tdel params_dict[key]\n",
    "\t\tparams_dict['batch_size'] = str(params_dict['batch_size'])\n",
    "\tparams_df = pd.concat([params_df, pd.DataFrame([params_dict])], ignore_index=True)\n",
    "\n",
    "\n",
    "params_df['val_MEE_mean'] = scores_df['val_MEE_mean']\n",
    "params_df['val_MEE_dev'] = scores_df['val_MEE_dev']\n",
    "params_df['split0_val_MEE'] = scores_df['split0_val_MEE']\n",
    "params_df['split1_val_MEE'] = scores_df['split1_val_MEE']\n",
    "params_df['split2_val_MEE'] = scores_df['split2_val_MEE']\n",
    "params_df['split0_best_epoch'] = scores_df['split0_best_epoch']\n",
    "params_df['split1_best_epoch'] = scores_df['split1_best_epoch']\n",
    "params_df['split2_best_epoch'] = scores_df['split2_best_epoch']\n",
    "\n",
    "hidden_layer_sizes = []\n",
    "for i in range(54):\n",
    "\tif (params_df['hidden_layer_sizes'][i]) == [20, 20, 20]:\n",
    "\t\thidden_layer_sizes.append('3layer20')\n",
    "\telif (params_df['hidden_layer_sizes'][i]) == [20, 20]:\n",
    "\t\thidden_layer_sizes.append('2layer20')\n",
    "\telse:\n",
    "\t\thidden_layer_sizes.append('1layer60')\n",
    "params_df['hidden'] = hidden_layer_sizes\n",
    "params_df"
   ]
  },
  {
   "cell_type": "code",
   "execution_count": 27,
   "metadata": {},
   "outputs": [
    {
     "data": {
      "text/plain": [
       "<AxesSubplot:xlabel='hidden', ylabel='alpha'>"
      ]
     },
     "execution_count": 27,
     "metadata": {},
     "output_type": "execute_result"
    },
    {
     "data": {
      "image/png": "[encoded data removed]",
      "text/plain": [
       "<Figure size 432x288 with 2 Axes>"
      ]
     },
     "metadata": {
      "needs_background": "light"
     },
     "output_type": "display_data"
    }
   ],
   "source": [
    "pvt_k = pd.pivot_table(\n",
    "        params_df, \n",
    "        values='val_MEE_mean', \n",
    "        index='alpha',\n",
    "        columns='hidden'\n",
    "    )\n",
    "sns.heatmap(pvt_k, annot=True, fmt=\".4f\", linewidths=.5)"
   ]
  },
  {
   "cell_type": "code",
   "execution_count": 28,
   "metadata": {},
   "outputs": [
    {
     "data": {
      "text/plain": [
       "<AxesSubplot:xlabel='lambd', ylabel='alpha'>"
      ]
     },
     "execution_count": 28,
     "metadata": {},
     "output_type": "execute_result"
    },
    {
     "data": {
      "image/png": "[encoded data removed]",
      "text/plain": [
       "<Figure size 432x288 with 2 Axes>"
      ]
     },
     "metadata": {
      "needs_background": "light"
     },
     "output_type": "display_data"
    }
   ],
   "source": [
    "pvt_k = pd.pivot_table(\n",
    "        params_df, \n",
    "        values='val_MEE_mean', \n",
    "        index='alpha',\n",
    "        columns='lambd'\n",
    "    )\n",
    "sns.heatmap(pvt_k, annot=True, fmt=\".4f\", linewidths=.5)\n"
   ]
  },
  {
   "cell_type": "code",
   "execution_count": 29,
   "metadata": {},
   "outputs": [
    {
     "data": {
      "text/plain": [
       "<AxesSubplot:xlabel='learning_rate_init', ylabel='alpha'>"
      ]
     },
     "execution_count": 29,
     "metadata": {},
     "output_type": "execute_result"
    },
    {
     "data": {
      "image/png": "[encoded data removed]",
      "text/plain": [
       "<Figure size 432x288 with 2 Axes>"
      ]
     },
     "metadata": {
      "needs_background": "light"
     },
     "output_type": "display_data"
    }
   ],
   "source": [
    "pvt_k = pd.pivot_table(\n",
    "        params_df, \n",
    "        values='val_MEE_mean', \n",
    "        index='alpha',\n",
    "        columns='learning_rate_init'\n",
    "    )\n",
    "sns.heatmap(pvt_k, annot=True, fmt=\".4f\", linewidths=.5)"
   ]
  },
  {
   "cell_type": "code",
   "execution_count": 30,
   "metadata": {},
   "outputs": [
    {
     "data": {
      "text/plain": [
       "<AxesSubplot:xlabel='lambd', ylabel='hidden'>"
      ]
     },
     "execution_count": 30,
     "metadata": {},
     "output_type": "execute_result"
    },
    {
     "data": {
      "image/png": "[encoded data removed]",
      "text/plain": [
       "<Figure size 432x288 with 2 Axes>"
      ]
     },
     "metadata": {
      "needs_background": "light"
     },
     "output_type": "display_data"
    }
   ],
   "source": [
    "pvt_k = pd.pivot_table(\n",
    "        params_df, \n",
    "        values='val_MEE_mean', \n",
    "        index='hidden',\n",
    "        columns='lambd'\n",
    "    )\n",
    "sns.heatmap(pvt_k, annot=True, fmt=\".4f\", linewidths=.5)"
   ]
  },
  {
   "cell_type": "code",
   "execution_count": 31,
   "metadata": {},
   "outputs": [
    {
     "data": {
      "text/plain": [
       "<AxesSubplot:xlabel='learning_rate_init', ylabel='hidden'>"
      ]
     },
     "execution_count": 31,
     "metadata": {},
     "output_type": "execute_result"
    },
    {
     "data": {
      "image/png": "[encoded data removed]",
      "text/plain": [
       "<Figure size 432x288 with 2 Axes>"
      ]
     },
     "metadata": {
      "needs_background": "light"
     },
     "output_type": "display_data"
    }
   ],
   "source": [
    "pvt_k = pd.pivot_table(\n",
    "        params_df, \n",
    "        values='val_MEE_mean', \n",
    "        index='hidden',\n",
    "        columns='learning_rate_init'\n",
    "    )\n",
    "sns.heatmap(pvt_k, annot=True, fmt=\".4f\", linewidths=.5)"
   ]
  },
  {
   "cell_type": "code",
   "execution_count": 32,
   "metadata": {},
   "outputs": [
    {
     "data": {
      "text/plain": [
       "<AxesSubplot:xlabel='learning_rate_init', ylabel='lambd'>"
      ]
     },
     "execution_count": 32,
     "metadata": {},
     "output_type": "execute_result"
    },
    {
     "data": {
      "image/png": "[encoded data removed]",
      "text/plain": [
       "<Figure size 432x288 with 2 Axes>"
      ]
     },
     "metadata": {
      "needs_background": "light"
     },
     "output_type": "display_data"
    }
   ],
   "source": [
    "pvt_k = pd.pivot_table(\n",
    "        params_df, \n",
    "        values='val_MEE_mean', \n",
    "        index='lambd',\n",
    "        columns='learning_rate_init'\n",
    "    )\n",
    "sns.heatmap(pvt_k, annot=True, fmt=\".4f\", linewidths=.5)"
   ]
  },
  {
   "cell_type": "code",
   "execution_count": 33,
   "metadata": {},
   "outputs": [
    {
     "data": {
      "text/plain": [
       "Text(0, 0.5, 'val_MEE_mean')"
      ]
     },
     "execution_count": 33,
     "metadata": {},
     "output_type": "execute_result"
    },
    {
     "data": {
      "image/png": "[encoded data removed]",
      "text/plain": [
       "<Figure size 432x288 with 1 Axes>"
      ]
     },
     "metadata": {
      "needs_background": "light"
     },
     "output_type": "display_data"
    }
   ],
   "source": [
    "plt.scatter(params_df['lambd'], params_df['val_MEE_mean'])\n",
    "plt.xlabel('lambd')\n",
    "plt.ylabel('val_MEE_mean')"
   ]
  },
  {
   "cell_type": "code",
   "execution_count": 34,
   "metadata": {},
   "outputs": [
    {
     "data": {
      "text/plain": [
       "<matplotlib.legend.Legend at 0x7fbff02047f0>"
      ]
     },
     "execution_count": 34,
     "metadata": {},
     "output_type": "execute_result"
    },
    {
     "data": {
      "image/png": "[encoded data removed]",
      "text/plain": [
       "<Figure size 432x288 with 1 Axes>"
      ]
     },
     "metadata": {
      "needs_background": "light"
     },
     "output_type": "display_data"
    }
   ],
   "source": [
    "plt.plot(params_df.loc[params_df['lambd']==0.0001, 'val_MEE_mean'], 'o-', label='lambd=0.0001')\n",
    "plt.plot(params_df.loc[params_df['lambd']==0.0005, 'val_MEE_mean'], 'o-', label='lambd=0.0005')\n",
    "plt.plot(params_df.loc[params_df['lambd']==0.001, 'val_MEE_mean'], 'o-', label='lambd=0.001')\n",
    "plt.legend()\n"
   ]
  },
  {
   "cell_type": "code",
   "execution_count": 35,
   "metadata": {},
   "outputs": [
    {
     "data": {
      "text/plain": [
       "<matplotlib.legend.Legend at 0x7fbfeffa8c40>"
      ]
     },
     "execution_count": 35,
     "metadata": {},
     "output_type": "execute_result"
    },
    {
     "data": {
      "image/png": "[encoded data removed]",
      "text/plain": [
       "<Figure size 432x288 with 1 Axes>"
      ]
     },
     "metadata": {
      "needs_background": "light"
     },
     "output_type": "display_data"
    }
   ],
   "source": [
    "plt.hist(params_df.loc[params_df['lambd']==0.0001, 'val_MEE_mean'], histtype='step', label='lambd=0.0001')\n",
    "plt.hist(params_df.loc[params_df['lambd']==0.0005, 'val_MEE_mean'], histtype='step', label='lambd=0.0005')\n",
    "plt.hist(params_df.loc[params_df['lambd']==0.001, 'val_MEE_mean'], histtype='step', label='lambd=0.001')\n",
    "plt.legend()"
   ]
  },
  {
   "cell_type": "code",
   "execution_count": 36,
   "metadata": {},
   "outputs": [
    {
     "data": {
      "text/plain": [
       "Text(0, 0.5, 'val_MEE_mean')"
      ]
     },
     "execution_count": 36,
     "metadata": {},
     "output_type": "execute_result"
    },
    {
     "data": {
      "image/png": "[encoded data removed]",
      "text/plain": [
       "<Figure size 432x288 with 1 Axes>"
      ]
     },
     "metadata": {
      "needs_background": "light"
     },
     "output_type": "display_data"
    }
   ],
   "source": [
    "plt.scatter(params_df['learning_rate_init'], params_df['val_MEE_mean'])\n",
    "plt.xlabel('learning_rate_init')\n",
    "plt.ylabel('val_MEE_mean')"
   ]
  },
  {
   "cell_type": "code",
   "execution_count": 37,
   "metadata": {},
   "outputs": [
    {
     "data": {
      "text/plain": [
       "<matplotlib.legend.Legend at 0x7fbff05b1070>"
      ]
     },
     "execution_count": 37,
     "metadata": {},
     "output_type": "execute_result"
    },
    {
     "data": {
      "image/png": "[encoded data removed]",
      "text/plain": [
       "<Figure size 432x288 with 1 Axes>"
      ]
     },
     "metadata": {
      "needs_background": "light"
     },
     "output_type": "display_data"
    }
   ],
   "source": [
    "plt.plot(params_df.loc[params_df['learning_rate_init']==0.005, 'val_MEE_mean'], 'o-', label='lr=0.005')\n",
    "plt.plot(params_df.loc[params_df['learning_rate_init']==0.05, 'val_MEE_mean'], 'o-', label='lr=0.05')\n",
    "plt.plot(params_df.loc[params_df['learning_rate_init']==0.0005, 'val_MEE_mean'], 'o-', label='lr=0.0005')\n",
    "plt.legend()"
   ]
  },
  {
   "cell_type": "code",
   "execution_count": 38,
   "metadata": {},
   "outputs": [
    {
     "data": {
      "text/plain": [
       "<matplotlib.legend.Legend at 0x7fbff06cc880>"
      ]
     },
     "execution_count": 38,
     "metadata": {},
     "output_type": "execute_result"
    },
    {
     "data": {
      "image/png": "[encoded data removed]",
      "text/plain": [
       "<Figure size 432x288 with 1 Axes>"
      ]
     },
     "metadata": {
      "needs_background": "light"
     },
     "output_type": "display_data"
    }
   ],
   "source": [
    "plt.hist(params_df.loc[params_df['learning_rate_init']==0.005, 'val_MEE_mean'], histtype='step', label='lr=0.005')\n",
    "plt.hist(params_df.loc[params_df['learning_rate_init']==0.05, 'val_MEE_mean'], histtype='step', label='lr=0.05')\n",
    "plt.hist(params_df.loc[params_df['learning_rate_init']==0.0005, 'val_MEE_mean'], histtype='step', label='lr=0.0005')\n",
    "plt.ylabel('val_MEE_mean')\n",
    "plt.legend()"
   ]
  },
  {
   "cell_type": "code",
   "execution_count": 39,
   "metadata": {},
   "outputs": [
    {
     "data": {
      "text/plain": [
       "Text(0, 0.5, 'val_MEE_mean')"
      ]
     },
     "execution_count": 39,
     "metadata": {},
     "output_type": "execute_result"
    },
    {
     "data": {
      "image/png": "[encoded data removed]",
      "text/plain": [
       "<Figure size 432x288 with 1 Axes>"
      ]
     },
     "metadata": {
      "needs_background": "light"
     },
     "output_type": "display_data"
    }
   ],
   "source": [
    "plt.scatter(params_df['alpha'], params_df['val_MEE_mean'])\n",
    "plt.xlabel('alpha')\n",
    "plt.ylabel('val_MEE_mean')"
   ]
  },
  {
   "cell_type": "code",
   "execution_count": 40,
   "metadata": {},
   "outputs": [
    {
     "data": {
      "text/plain": [
       "<matplotlib.legend.Legend at 0x7fbff07994f0>"
      ]
     },
     "execution_count": 40,
     "metadata": {},
     "output_type": "execute_result"
    },
    {
     "data": {
      "image/png": "[encoded data removed]",
      "text/plain": [
       "<Figure size 432x288 with 1 Axes>"
      ]
     },
     "metadata": {
      "needs_background": "light"
     },
     "output_type": "display_data"
    }
   ],
   "source": [
    "plt.hist(params_df.loc[params_df['alpha']==0.7, 'val_MEE_mean'], histtype='step', label='alpha=0.7')\n",
    "plt.hist(params_df.loc[params_df['alpha']==0.9, 'val_MEE_mean'], histtype='step', label='alpha=0.9')\n",
    "plt.ylabel('val_MEE_mean')\n",
    "plt.legend()"
   ]
  },
  {
   "cell_type": "code",
   "execution_count": 41,
   "metadata": {},
   "outputs": [
    {
     "data": {
      "text/plain": [
       "<matplotlib.legend.Legend at 0x7fbff0780160>"
      ]
     },
     "execution_count": 41,
     "metadata": {},
     "output_type": "execute_result"
    },
    {
     "data": {
      "image/png": "[encoded data removed]",
      "text/plain": [
       "<Figure size 432x288 with 1 Axes>"
      ]
     },
     "metadata": {
      "needs_background": "light"
     },
     "output_type": "display_data"
    }
   ],
   "source": [
    "plt.plot(params_df.loc[params_df['alpha']==0.7, 'val_MEE_mean'], 'o-', label='alpha=0.7')\n",
    "plt.plot(params_df.loc[params_df['alpha']==0.9, 'val_MEE_mean'], 'o-', label='alpha=0.9')\n",
    "plt.legend()"
   ]
  },
  {
   "cell_type": "code",
   "execution_count": 42,
   "metadata": {},
   "outputs": [
    {
     "data": {
      "text/plain": [
       "Text(0, 0.5, 'val_MEE_mean')"
      ]
     },
     "execution_count": 42,
     "metadata": {},
     "output_type": "execute_result"
    },
    {
     "data": {
      "image/png": "[encoded data removed]",
      "text/plain": [
       "<Figure size 432x288 with 1 Axes>"
      ]
     },
     "metadata": {
      "needs_background": "light"
     },
     "output_type": "display_data"
    }
   ],
   "source": [
    "plt.scatter(params_df['hidden'], params_df['val_MEE_mean'])\n",
    "plt.ylabel('val_MEE_mean')"
   ]
  },
  {
   "cell_type": "code",
   "execution_count": 43,
   "metadata": {},
   "outputs": [
    {
     "data": {
      "text/plain": [
       "<matplotlib.legend.Legend at 0x7fbff10d2ca0>"
      ]
     },
     "execution_count": 43,
     "metadata": {},
     "output_type": "execute_result"
    },
    {
     "data": {
      "image/png": "[encoded data removed]",
      "text/plain": [
       "<Figure size 432x288 with 1 Axes>"
      ]
     },
     "metadata": {
      "needs_background": "light"
     },
     "output_type": "display_data"
    }
   ],
   "source": [
    "plt.hist(params_df.loc[params_df['hidden']=='1layer60', 'val_MEE_mean'], histtype='step', label='1layer60')\n",
    "plt.hist(params_df.loc[params_df['hidden']=='2layer20', 'val_MEE_mean'], histtype='step', label='2layer20')\n",
    "plt.hist(params_df.loc[params_df['hidden']=='3layer20', 'val_MEE_mean'], histtype='step', label='3layer20')\n",
    "plt.legend()"
   ]
  },
  {
   "cell_type": "code",
   "execution_count": 44,
   "metadata": {},
   "outputs": [
    {
     "data": {
      "text/plain": [
       "[<matplotlib.lines.Line2D at 0x7fbff157a670>]"
      ]
     },
     "execution_count": 44,
     "metadata": {},
     "output_type": "execute_result"
    },
    {
     "data": {
      "image/png": "[encoded data removed]",
      "text/plain": [
       "<Figure size 432x288 with 1 Axes>"
      ]
     },
     "metadata": {
      "needs_background": "light"
     },
     "output_type": "display_data"
    }
   ],
   "source": [
    "plt.plot(params_df.loc[params_df['hidden']=='1layer60', 'val_MEE_mean'], 'o-', label='1layer60')\n",
    "plt.plot(params_df.loc[params_df['hidden']=='2layer20', 'val_MEE_mean'], 'o-', label='2layer20')\n",
    "plt.plot(params_df.loc[params_df['hidden']=='3layer20', 'val_MEE_mean'], 'o-', label='3layer20')"
   ]
  },
  {
   "cell_type": "code",
   "execution_count": 45,
   "metadata": {},
   "outputs": [
    {
     "data": {
      "image/png": "[encoded data removed]",
      "text/plain": [
       "<Figure size 720x360 with 2 Axes>"
      ]
     },
     "metadata": {
      "needs_background": "light"
     },
     "output_type": "display_data"
    }
   ],
   "source": [
    "plt.figure(figsize=(10,5))\n",
    "sns.heatmap(params_df[['alpha', 'lambd', 'learning_rate_init', 'val_MEE_mean']].corr(), cmap=plt.cm.Reds, annot=True)\n",
    "plt.show()"
   ]
  },
  {
   "cell_type": "code",
   "execution_count": 46,
   "metadata": {},
   "outputs": [
    {
     "data": {
      "text/plain": [
       "Text(0, 0.5, 'val_MEE_mean')"
      ]
     },
     "execution_count": 46,
     "metadata": {},
     "output_type": "execute_result"
    },
    {
     "data": {
      "image/png": "[encoded data removed]",
      "text/plain": [
       "<Figure size 432x288 with 1 Axes>"
      ]
     },
     "metadata": {
      "needs_background": "light"
     },
     "output_type": "display_data"
    }
   ],
   "source": [
    "plt.errorbar(x=np.arange(N_MODELS), y=params_df['val_MEE_mean'], yerr=params_df['val_MEE_dev'])\n",
    "plt.xlabel(\"model_id\")\n",
    "plt.ylabel(\"val_MEE_mean\")"
   ]
  },
  {
   "cell_type": "code",
   "execution_count": 47,
   "metadata": {},
   "outputs": [
    {
     "data": {
      "text/plain": [
       "<matplotlib.legend.Legend at 0x7fbff173a790>"
      ]
     },
     "execution_count": 47,
     "metadata": {},
     "output_type": "execute_result"
    },
    {
     "data": {
      "image/png": "[encoded data removed]",
      "text/plain": [
       "<Figure size 432x288 with 1 Axes>"
      ]
     },
     "metadata": {
      "needs_background": "light"
     },
     "output_type": "display_data"
    }
   ],
   "source": [
    "plt.plot(np.arange(N_MODELS), params_df['split0_val_MEE'], label='split0')\n",
    "plt.plot(np.arange(N_MODELS), params_df['split1_val_MEE'], label='split1')\n",
    "plt.plot(np.arange(N_MODELS), params_df['split2_val_MEE'], label='split2')\n",
    "plt.xlabel(\"model_id\")\n",
    "plt.ylabel(\"val_MEE\")\n",
    "plt.legend()"
   ]
  },
  {
   "cell_type": "code",
   "execution_count": 51,
   "metadata": {},
   "outputs": [
    {
     "data": {
      "text/plain": [
       "<matplotlib.legend.Legend at 0x7fbff1a18ac0>"
      ]
     },
     "execution_count": 51,
     "metadata": {},
     "output_type": "execute_result"
    },
    {
     "data": {
      "image/png": "[encoded data removed]",
      "text/plain": [
       "<Figure size 432x288 with 1 Axes>"
      ]
     },
     "metadata": {
      "needs_background": "light"
     },
     "output_type": "display_data"
    }
   ],
   "source": [
    "plt.plot((params_df['split0_best_epoch'][params_df['hidden']=='1layer60']+\n",
    "\t\tparams_df['split1_best_epoch'][params_df['hidden']=='1layer60']+\n",
    "\t\tparams_df['split2_best_epoch'][params_df['hidden']=='1layer60'])/3\n",
    "\t\t,label='1layer60')\n",
    "plt.plot((params_df['split0_best_epoch'][params_df['hidden']=='2layer20']+\n",
    "\t\tparams_df['split1_best_epoch'][params_df['hidden']=='2layer20']+\n",
    "\t\tparams_df['split2_best_epoch'][params_df['hidden']=='2layer20'])/3\n",
    "\t\t,label='2layer20')\n",
    "plt.plot((params_df['split0_best_epoch'][params_df['hidden']=='3layer20']+\n",
    "\t\tparams_df['split1_best_epoch'][params_df['hidden']=='3layer20']+\n",
    "\t\tparams_df['split2_best_epoch'][params_df['hidden']=='3layer20'])/3\n",
    "\t\t,label='3layer20')\n",
    "plt.legend()"
   ]
  },
  {
   "cell_type": "code",
   "execution_count": 49,
   "metadata": {},
   "outputs": [],
   "source": [
    "# TENIAMO IN CONSIDERAZIONE CHE:\n",
    "# reti più grosse => regolarizzazione maggiore (+pesi=+parametri)\n",
    "# favorire modelli con lambda più alto se hanno pari perf (meno complessi, meno probabile che vadano in overfitting)\n",
    "# se non troviamo trend => facciamo ensemble (oppure se dev std alta)\n",
    "\n",
    "# DA VISUALIZZARE:\n",
    "# 3d heatmap per ogni topoplogia\n",
    "# test statistici per media e dev standard?\n",
    "# https://scikit-learn.org/stable/auto_examples/model_selection/plot_grid_search_stats.html\n",
    "# plot medie e dev standard MEE (applicare 1-standard error rule)\n",
    "\n",
    "# A CUI PENSARE:\n",
    "# ultima va male perchè momentum e lr sono bassi e necessitavano di più epoche (ciò significa che il momentum è implementato bene)\n",
    "# lr > 0.0005 in gs2 (rank 36/54)\n",
    "\n",
    "# NEL FRATTEMPO:\n",
    "# Pulire codice gs e val e nel frattempo e mettere su script per ensemble / evaluation finale?\n",
    "# Per la classificazione fare controlli in score (target encoding) \n",
    "# Rivedere implementazione metriche!!! Eventualmente implementare score in modo che prenda una lista di metriche e restituisca una lista di predizioni. \n",
    "# Senza linear decay non fare il controllo su tau \n",
    "# Fare test su Monk, curve e risultati in tabella (migliore configurazione)\n",
    "\n",
    "# La chiave sta nel velocizzare il train scartate le combinazioni che esplodono / si bloccano?\n",
    "# Le altre in principio con un numero grande di epoche e una buona regolarizzazione migliorano...\n",
    "\n",
    "#Attenzione con batch size 128 quanti batch ci sono\n",
    "#Giustificazione topologia e f attivazione prima gs\n",
    "#Vedere metriche sul train, plotting overfitting? quando lambda piccolo va in overfitting?\n",
    "#Vedere regolarità curve con zoom\n",
    "\n",
    "# se fissiamo un massimo di 500 epoche (motivare) possiamo aumentare momentum / diminuire lr e viceversa\n",
    "# nesterov dovrebbe velocizzare ancora di più!\n",
    "# perchè linear decay va male? learning rate troppo piccolo => training si blocca?? bisognerebbe vedere se epoca migliore è << max (ma quando sono 200 magari sono già troppo poche per vederlo)\n",
    "\n",
    "# come individuare cosa non andava in quelle che esplodevano?\n",
    "# prendiamo le ultime x e contiamo qual'è il parametro più frequente\n",
    "\n",
    "\n",
    "# come clusterizzare configurazioni simili tenendo in considerazione media e dev std?\n",
    "\"\"\"\n",
    "I PRIMI 14 (numero quasi arbitrario) RAGGRUPPATI PER TOPOLOGIA E ORDINATI PER RANK\n",
    "\n",
    "\talpha\t\t\t\t\t\tlambd\t\t\t\tlr\n",
    "\n",
    " 1 ,  0.7 ,\"[20, 20]\"         ,0.0005 ,            0.05\n",
    " 2 ,  0.7 ,\"[20, 20]\"         ,0.0001 ,            0.05\n",
    " 3 ,  0.7 ,\"[20, 20]\"         ,0.001  ,            0.05\n",
    " 6 ,  0.9 ,\"[20, 20]\"         ,0.0005 ,            0.005\n",
    "11 ,  0.9 ,\"[20, 20]\"         ,0.0001 ,            0.005\n",
    "13 ,  0.9 ,\"[20, 20]\"         ,0.001  ,            0.05\n",
    "\n",
    " 0 ,  0.9 ,\"[20, 20, 20]\"     ,0.0001 ,            0.005\n",
    " 4 ,  0.9 ,\"[20, 20, 20]\"     ,0.0005 ,            0.005\n",
    " 5 ,  0.7 ,\"[20, 20, 20]\"     ,0.0005 ,            0.05\n",
    " 7 ,  0.7 ,\"[20, 20, 20]\"     ,0.0001 ,            0.05\n",
    " 8 ,  0.7 ,\"[20, 20, 20]\"     ,0.001  ,            0.05\n",
    "12 ,  0.9 ,\"[20, 20, 20]\"     ,0.001  ,            0.005\n",
    "\n",
    " 9 ,  0.7 ,[60]               ,0.001  ,            0.05\n",
    "10 ,  0.7 ,[60]               ,0.0005 ,            0.05\n",
    "14 ,  0.9 ,[60]               ,0.0001 ,            0.005\n",
    "\n",
    "alpha 0.7 => lr più grande\n",
    "alpha 0.9 => lr più piccolo (alpha grande 'accelera')\n",
    "\n",
    "\"\"\""
   ]
  }
 ],
 "metadata": {
  "kernelspec": {
   "display_name": "base",
   "language": "python",
   "name": "python3"
  },
  "language_info": {
   "codemirror_mode": {
    "name": "ipython",
    "version": 3
   },
   "file_extension": ".py",
   "mimetype": "text/x-python",
   "name": "python",
   "nbconvert_exporter": "python",
   "pygments_lexer": "ipython3",
   "version": "3.9.7"
  },
  "orig_nbformat": 4,
  "vscode": {
   "interpreter": {
    "hash": "713fab053b70248309f38369769e76c7d958a7246712b1fe74644afe88cb10ce"
   }
  }
 },
 "nbformat": 4,
 "nbformat_minor": 2
}
